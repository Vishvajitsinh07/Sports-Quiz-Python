{
 "cells": [
  {
   "cell_type": "markdown",
   "id": "3ef23dae",
   "metadata": {},
   "source": [
    "# KBC Of Sports"
   ]
  },
  {
   "cell_type": "code",
   "execution_count": null,
   "id": "6cefc8de",
   "metadata": {},
   "outputs": [
    {
     "ename": "",
     "evalue": "",
     "output_type": "error",
     "traceback": [
      "\u001b[1;31mRunning cells with 'c:\\Users\\vaghe\\OneDrive\\Downloads\\python.exe' requires the ipykernel package.\n",
      "\u001b[1;31mRun the following command to install 'ipykernel' into the Python environment. \n",
      "\u001b[1;31mCommand: 'c:/Users/vaghe/OneDrive/Downloads/python.exe -m pip install ipykernel -U --user --force-reinstall'"
     ]
    }
   ],
   "source": [
    "import random\n",
    "def print_options(options):\n",
    "    for i in range(len(options)):\n",
    "        print(f\"{i+1}. {options[i]}\")\n",
    "def ask_question(question, options, correct_answer):\n",
    "    print(question)\n",
    "    print_options(options)\n",
    "    user_answer = input(\"Your answer (1/2/3/4) or type 'quit' or '0' to end the game: \").lower()\n",
    "    if user_answer == 'quit' or user_answer == '0':\n",
    "        return False, 0\n",
    "    elif user_answer.isdigit() and 1 <= int(user_answer) <= len(options):\n",
    "        if options[int(user_answer) - 1] == correct_answer:\n",
    "            print(\"Correct answer!\")\n",
    "            return True, 10000\n",
    "        else:\n",
    "            print(\"Wrong answer!\")\n",
    "            return False, 0\n",
    "    else:\n",
    "        print(\"Invalid input. Please enter a number between 1 and 4 or 'quit' or '0' to end the game.\")\n",
    "        return False, 0\n",
    "def play_game(interest):\n",
    "    if interest == 'cricket' or interest == '1':\n",
    "        questions = cricket_questions.copy()\n",
    "    elif interest == 'kabaddi' or interest == '2':\n",
    "        questions = kabaddi_questions.copy()\n",
    "    else:\n",
    "        print(\"Invalid interest. Please choose either 'cricket' or 'kabaddi'.\")\n",
    "        return\n",
    "  \n",
    "    total_questions = 10\n",
    "    money = 0\n",
    "    random.shuffle(questions)  # Shuffle the list of questions\n",
    "    for i in range(total_questions):\n",
    "        question, options, correct_answer = questions.pop()  # Pop the last question from the shuffled list\n",
    "        print(f\"\\nQuestion {i + 1}:\")\n",
    "        correct, earned = ask_question(question, options, correct_answer)\n",
    "        money += earned\n",
    "        if not correct:\n",
    "            print(f\"\\nGame over! You earned {money} rupees.\")\n",
    "            return\n",
    "        print(f\"Current money: {money} rupees.\")\n",
    "    print(f\"\\nCongratulations! You won {money} rupees.\")\n",
    "cricket_questions = [\n",
    "    (\"Who is the current captain of the Indian cricket team?\", [\"Virat Kohli\", \"Rohit Sharma\", \"Ajinkya Rahane\", \"KL Rahul\"], \"Virat Kohli\"),\n",
    "    (\"Which team won the ICC Cricket World Cup 2019?\", [\"England\", \"New Zealand\", \"India\", \"Australia\"], \"England\"),\n",
    "    (\"Who holds the record for the highest individual score in Test cricket?\", [\"Brian Lara\", \"Sachin Tendulkar\", \"Virender Sehwag\", \"Brian Lara\"], \"Brian Lara\"),\n",
    "    (\"Who is the fastest Indian bowler to take 100 wickets in Test cricket?\", [\"Jasprit Bumrah\", \"Ravichandran Ashwin\", \"Anil Kumble\", \"Kapil Dev\"], \"Ravichandran Ashwin\"),\n",
    "    (\"Who scored the first double century in One Day International cricket?\", [\"Sachin Tendulkar\", \"Virender Sehwag\", \"Rohit Sharma\", \"Martin Guptill\"], \"Sachin Tendulkar\"),\n",
    "    (\"Which cricketer has the highest number of dismissals as a wicketkeeper in international cricket?\", [\"Kumar Sangakkara\", \"Adam Gilchrist\", \"MS Dhoni\", \"Mark Boucher\"], \"MS Dhoni\"),\n",
    "    (\"Who has the best bowling figures in an innings in Test cricket?\", [\"Jim Laker\", \"Anil Kumble\", \"Muttiah Muralitharan\", \"Shane Warne\"], \"Jim Laker\"),\n",
    "    (\"Who won the IPL 2020 season?\", [\"Mumbai Indians\", \"Delhi Capitals\", \"Sunrisers Hyderabad\", \"Royal Challengers Bangalore\"], \"Mumbai Indians\"),\n",
    "    (\"Who was awarded the ICC Player of the Decade for the 2010s?\", [\"Virat Kohli\", \"Kane Williamson\", \"Steve Smith\", \"Joe Root\"], \"Virat Kohli\"),\n",
    "    (\"Which player holds the record for the most sixes in IPL history?\", [\"Chris Gayle\", \"AB de Villiers\", \"Rohit Sharma\", \"MS Dhoni\"], \"Chris Gayle\"),\n",
    "]\n",
    "kabaddi_questions = [\n",
    "    (\"Which team has won the most Pro Kabaddi League titles?\", [\"Patna Pirates\", \"Bengaluru Bulls\", \"U Mumba\", \"Jaipur Pink Panthers\"], \"Patna Pirates\"),\n",
    "    (\"Who is known as the 'Record Breaker' in the sport of kabaddi for scoring the most raid points in a single match?\", [\"Pardeep Narwal\", \"Rahul Chaudhari\", \"Pawan Sehrawat\", \"Deepak Niwas Hooda\"], \"Pardeep Narwal\"),\n",
    "    (\"Who was the captain of the Indian kabaddi team that won the gold medal in the 2018 Asian Games?\", [\"Ajay Thakur\", \"Rahul Chaudhari\", \"Anup Kumar\", \"Manjeet Chhillar\"], \"Ajay Thakur\"),\n",
    "    (\"Which kabaddi team has won the most consecutive matches in Pro Kabaddi League history?\", [\"U Mumba\", \"Patna Pirates\", \"Bengal Warriors\", \"Bengaluru Bulls\"], \"U Mumba\"),\n",
    "    (\"What is the term used for the move in kabaddi where a raider escapes without being tagged by the defenders?\", [\"Frog jump\", \"Lizard jump\", \"Dolphin jump\", \"Cat jump\"], \"Frog jump\"),\n",
    "    (\"Who is the current captain of the Indian kabaddi team?\", [\"Ajay Thakur\", \"Maninder Singh\", \"Pawan Sehrawat\", \"Pardeep Narwal\"], \"Ajay Thakur\"),\n",
    "    (\"Which country won the gold medal in men's kabaddi at the 2018 Asian Games?\", [\"India\", \"Pakistan\", \"Iran\", \"South Korea\"], \"India\"),\n",
    "    (\"What is the term used for the line that the raider must cross to score a point in kabaddi?\", [\"Baseline\", \"Midline\", \"Center line\", \"Bonus line\"], \"Baseline\"),\n",
    "    (\"Which kabaddi team is known as the 'Hi-Flyer'?\", [\"U Mumba\", \"Patna Pirates\", \"Bengaluru Bulls\", \"Telugu Titans\"], \"Bengaluru Bulls\"),\n",
    "    (\"Who is known as the 'Iceman' in the Pro Kabaddi League?\", [\"Ajay Thakur\", \"Pardeep Narwal\", \"Rahul Chaudhari\", \"Pawan Sehrawat\"], \"Pawan Sehrawat\"),\n",
    "]\n",
    "\n",
    "def main():\n",
    "    print(\"------------------------------\")\n",
    "    print(\"Welcome to Sports Quiz Game!\")\n",
    "    print(\"------------------------------\")\n",
    "    interest = input(\"Choose your interest: 1. Cricket 2. Kabaddi\\n\").lower()\n",
    "    play_game(interest)\n",
    "\n",
    "main()"
   ]
  },
  {
   "cell_type": "code",
   "execution_count": null,
   "id": "75b4acc1",
   "metadata": {},
   "outputs": [],
   "source": []
  }
 ],
 "metadata": {
  "kernelspec": {
   "display_name": "Python 3 (ipykernel)",
   "language": "python",
   "name": "python3"
  },
  "language_info": {
   "codemirror_mode": {
    "name": "ipython",
    "version": 3
   },
   "file_extension": ".py",
   "mimetype": "text/x-python",
   "name": "python",
   "nbconvert_exporter": "python",
   "pygments_lexer": "ipython3",
   "version": "3.11.5"
  }
 },
 "nbformat": 4,
 "nbformat_minor": 5
}
